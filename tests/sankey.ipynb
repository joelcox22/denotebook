{
 "cells": [
  {
   "cell_type": "code",
   "execution_count": 1,
   "metadata": {},
   "outputs": [
    {
     "data": {
      "text/markdown": [
       "```mermaid\n",
       "sankey-beta\n",
       "a,b,15\n",
       "a,c,75\n",
       "b,d,25\n",
       "c,d,50\n",
       "b,e,40\n",
       "x,b,50\n",
       "c,e,25\n",
       "```"
      ]
     },
     "execution_count": 1,
     "metadata": {},
     "output_type": "execute_result"
    }
   ],
   "source": [
    "import { sankey } from '../src/sankey.ts';\n",
    "\n",
    "sankey([\n",
    "  ['a', 'b', 15],\n",
    "  ['a', 'c', 75],\n",
    "  ['b', 'd', 25],\n",
    "  ['c', 'd', 50],\n",
    "  ['b', 'e', 40],\n",
    "  ['x', 'b', 50],\n",
    "  ['c', 'e', 25],\n",
    "]);\n"
   ]
  }
 ],
 "metadata": {
  "kernelspec": {
   "display_name": "Deno",
   "language": "typescript",
   "name": "deno"
  },
  "language_info": {
   "codemirror_mode": "typescript",
   "file_extension": ".ts",
   "mimetype": "text/x.typescript",
   "name": "typescript",
   "nbconvert_exporter": "script",
   "pygments_lexer": "typescript",
   "version": "5.6.2"
  }
 },
 "nbformat": 4,
 "nbformat_minor": 2
}
