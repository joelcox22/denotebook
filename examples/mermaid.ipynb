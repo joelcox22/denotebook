{
 "cells": [
  {
   "cell_type": "code",
   "execution_count": 1,
   "metadata": {},
   "outputs": [
    {
     "data": {
      "text/html": [
       "<img src=\"data:image/png;base64,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\" />"
      ]
     },
     "metadata": {},
     "output_type": "display_data"
    }
   ],
   "source": [
    "import { mermaid } from \"denotebook\";\n",
    "\n",
    "mermaid.configure({\n",
    "  title: \"testing\",\n",
    "});\n",
    "\n",
    "await mermaid`\n",
    "graph LR\n",
    "a --> b\n",
    "`;\n"
   ]
  },
  {
   "cell_type": "code",
   "execution_count": 2,
   "metadata": {},
   "outputs": [
    {
     "data": {
      "image/svg+xml": [
       "<svg aria-roledescription=\"flowchart-v2\" role=\"graphics-document document\" viewBox=\"0 -50 203.3203125 114.5\" style=\"max-width: 203.32px; background-color: rgb(51, 51, 51);\" class=\"flowchart\" xmlns:xlink=\"http://www.w3.org/1999/xlink\" xmlns=\"http://www.w3.org/2000/svg\" width=\"100%\" id=\"my-svg\"><style>#my-svg{font-family:\"trebuchet ms\",verdana,arial,sans-serif;font-size:16px;fill:#ccc;}#my-svg .error-icon{fill:#a44141;}#my-svg .error-text{fill:#ddd;stroke:#ddd;}#my-svg .edge-thickness-normal{stroke-width:1px;}#my-svg .edge-thickness-thick{stroke-width:3.5px;}#my-svg .edge-pattern-solid{stroke-dasharray:0;}#my-svg .edge-thickness-invisible{stroke-width:0;fill:none;}#my-svg .edge-pattern-dashed{stroke-dasharray:3;}#my-svg .edge-pattern-dotted{stroke-dasharray:2;}#my-svg .marker{fill:lightgrey;stroke:lightgrey;}#my-svg .marker.cross{stroke:lightgrey;}#my-svg svg{font-family:\"trebuchet ms\",verdana,arial,sans-serif;font-size:16px;}#my-svg p{margin:0;}#my-svg .label{font-family:\"trebuchet ms\",verdana,arial,sans-serif;color:#ccc;}#my-svg .cluster-label text{fill:#F9FFFE;}#my-svg .cluster-label span{color:#F9FFFE;}#my-svg .cluster-label span p{background-color:transparent;}#my-svg .label text,#my-svg span{fill:#ccc;color:#ccc;}#my-svg .node rect,#my-svg .node circle,#my-svg .node ellipse,#my-svg .node polygon,#my-svg .node path{fill:#1f2020;stroke:#ccc;stroke-width:1px;}#my-svg .rough-node .label text,#my-svg .node .label text,#my-svg .image-shape .label,#my-svg .icon-shape .label{text-anchor:middle;}#my-svg .node .katex path{fill:#000;stroke:#000;stroke-width:1px;}#my-svg .rough-node .label,#my-svg .node .label,#my-svg .image-shape .label,#my-svg .icon-shape .label{text-align:center;}#my-svg .node.clickable{cursor:pointer;}#my-svg .root .anchor path{fill:lightgrey!important;stroke-width:0;stroke:lightgrey;}#my-svg .arrowheadPath{fill:lightgrey;}#my-svg .edgePath .path{stroke:lightgrey;stroke-width:2.0px;}#my-svg .flowchart-link{stroke:lightgrey;fill:none;}#my-svg .edgeLabel{background-color:hsl(0, 0%, 34.4117647059%);text-align:center;}#my-svg .edgeLabel p{background-color:hsl(0, 0%, 34.4117647059%);}#my-svg .edgeLabel rect{opacity:0.5;background-color:hsl(0, 0%, 34.4117647059%);fill:hsl(0, 0%, 34.4117647059%);}#my-svg .labelBkg{background-color:rgba(87.75, 87.75, 87.75, 0.5);}#my-svg .cluster rect{fill:hsl(180, 1.5873015873%, 28.3529411765%);stroke:rgba(255, 255, 255, 0.25);stroke-width:1px;}#my-svg .cluster text{fill:#F9FFFE;}#my-svg .cluster span{color:#F9FFFE;}#my-svg div.mermaidTooltip{position:absolute;text-align:center;max-width:200px;padding:2px;font-family:\"trebuchet ms\",verdana,arial,sans-serif;font-size:12px;background:hsl(20, 1.5873015873%, 12.3529411765%);border:1px solid rgba(255, 255, 255, 0.25);border-radius:2px;pointer-events:none;z-index:100;}#my-svg .flowchartTitleText{text-anchor:middle;font-size:18px;fill:#ccc;}#my-svg rect.text{fill:none;stroke-width:0;}#my-svg .icon-shape,#my-svg .image-shape{background-color:hsl(0, 0%, 34.4117647059%);text-align:center;}#my-svg .icon-shape p,#my-svg .image-shape p{background-color:hsl(0, 0%, 34.4117647059%);padding:2px;}#my-svg .icon-shape rect,#my-svg .image-shape rect{opacity:0.5;background-color:hsl(0, 0%, 34.4117647059%);fill:hsl(0, 0%, 34.4117647059%);}#my-svg :root{--mermaid-font-family:\"trebuchet ms\",verdana,arial,sans-serif;}</style><g><marker orient=\"auto\" markerHeight=\"8\" markerWidth=\"8\" markerUnits=\"userSpaceOnUse\" refY=\"5\" refX=\"5\" viewBox=\"0 0 10 10\" class=\"marker flowchart-v2\" id=\"my-svg_flowchart-v2-pointEnd\"><path style=\"stroke-width: 1; stroke-dasharray: 1, 0;\" class=\"arrowMarkerPath\" d=\"M 0 0 L 10 5 L 0 10 z\"/></marker><marker orient=\"auto\" markerHeight=\"8\" markerWidth=\"8\" markerUnits=\"userSpaceOnUse\" refY=\"5\" refX=\"4.5\" viewBox=\"0 0 10 10\" class=\"marker flowchart-v2\" id=\"my-svg_flowchart-v2-pointStart\"><path style=\"stroke-width: 1; stroke-dasharray: 1, 0;\" class=\"arrowMarkerPath\" d=\"M 0 5 L 10 10 L 10 0 z\"/></marker><marker orient=\"auto\" markerHeight=\"11\" markerWidth=\"11\" markerUnits=\"userSpaceOnUse\" refY=\"5\" refX=\"11\" viewBox=\"0 0 10 10\" class=\"marker flowchart-v2\" id=\"my-svg_flowchart-v2-circleEnd\"><circle style=\"stroke-width: 1; stroke-dasharray: 1, 0;\" class=\"arrowMarkerPath\" r=\"5\" cy=\"5\" cx=\"5\"/></marker><marker orient=\"auto\" markerHeight=\"11\" markerWidth=\"11\" markerUnits=\"userSpaceOnUse\" refY=\"5\" refX=\"-1\" viewBox=\"0 0 10 10\" class=\"marker flowchart-v2\" id=\"my-svg_flowchart-v2-circleStart\"><circle style=\"stroke-width: 1; stroke-dasharray: 1, 0;\" class=\"arrowMarkerPath\" r=\"5\" cy=\"5\" cx=\"5\"/></marker><marker orient=\"auto\" markerHeight=\"11\" markerWidth=\"11\" markerUnits=\"userSpaceOnUse\" refY=\"5.2\" refX=\"12\" viewBox=\"0 0 11 11\" class=\"marker cross flowchart-v2\" id=\"my-svg_flowchart-v2-crossEnd\"><path style=\"stroke-width: 2; stroke-dasharray: 1, 0;\" class=\"arrowMarkerPath\" d=\"M 1,1 l 9,9 M 10,1 l -9,9\"/></marker><marker orient=\"auto\" markerHeight=\"11\" markerWidth=\"11\" markerUnits=\"userSpaceOnUse\" refY=\"5.2\" refX=\"-1\" viewBox=\"0 0 11 11\" class=\"marker cross flowchart-v2\" id=\"my-svg_flowchart-v2-crossStart\"><path style=\"stroke-width: 2; stroke-dasharray: 1, 0;\" class=\"arrowMarkerPath\" d=\"M 1,1 l 9,9 M 10,1 l -9,9\"/></marker><g class=\"root\"><g class=\"clusters\"/><g class=\"edgePaths\"><path marker-end=\"url(#my-svg_flowchart-v2-pointEnd)\" style=\"\" class=\"edge-thickness-normal edge-pattern-solid edge-thickness-normal edge-pattern-solid flowchart-link\" id=\"L_a_b_0\" d=\"M76.406,32.25L80.573,32.25C84.74,32.25,93.073,32.25,100.74,32.25C108.406,32.25,115.406,32.25,118.906,32.25L122.406,32.25\"/></g><g class=\"edgeLabels\"><g class=\"edgeLabel\"><g transform=\"translate(0, 0)\" class=\"label\"><foreignObject height=\"0\" width=\"0\"><div style=\"display: table-cell; white-space: nowrap; line-height: 1.5; max-width: 200px; text-align: center;\" class=\"labelBkg\" xmlns=\"http://www.w3.org/1999/xhtml\"><span class=\"edgeLabel\"></span></div></foreignObject></g></g></g><g class=\"nodes\"><g transform=\"translate(42.203125, 32.25)\" id=\"flowchart-a-0\" class=\"node default\"><rect height=\"48.5\" width=\"68.40625\" y=\"-24.25\" x=\"-34.203125\" style=\"\" class=\"basic label-container\"/><g transform=\"translate(0, -9.25)\" style=\"\" class=\"label\"><rect/><g><rect style=\"stroke: none\" class=\"background\"/><text style=\"\" y=\"-10.1\"><tspan dy=\"1.1em\" y=\"-0.1em\" x=\"0\" class=\"text-outer-tspan\"><tspan font-weight=\"normal\" class=\"text-inner-tspan\" font-style=\"normal\">a</tspan></tspan></text></g></g></g><g transform=\"translate(160.86328125, 32.25)\" id=\"flowchart-b-1\" class=\"node default\"><rect height=\"48.5\" width=\"68.9140625\" y=\"-24.25\" x=\"-34.45703125\" style=\"\" class=\"basic label-container\"/><g transform=\"translate(0, -9.25)\" style=\"\" class=\"label\"><rect/><g><rect style=\"stroke: none\" class=\"background\"/><text style=\"\" y=\"-10.1\"><tspan dy=\"1.1em\" y=\"-0.1em\" x=\"0\" class=\"text-outer-tspan\"><tspan font-weight=\"normal\" class=\"text-inner-tspan\" font-style=\"normal\">b</tspan></tspan></text></g></g></g></g></g></g><text class=\"flowchartTitleText\" y=\"-25\" x=\"101.66015625\" text-anchor=\"middle\">testing</text></svg>"
      ]
     },
     "metadata": {},
     "output_type": "display_data"
    }
   ],
   "source": [
    "import { mermaid } from \"denotebook\";\n",
    "\n",
    "mermaid.configure({\n",
    "  outputFormat: \"svg\",\n",
    "});\n",
    "\n",
    "await mermaid`\n",
    "graph LR\n",
    "a --> b\n",
    "`;\n"
   ]
  }
 ],
 "metadata": {
  "kernelspec": {
   "display_name": "Deno",
   "language": "typescript",
   "name": "deno"
  },
  "language_info": {
   "codemirror_mode": "typescript",
   "file_extension": ".ts",
   "mimetype": "text/x.typescript",
   "name": "typescript",
   "nbconvert_exporter": "script",
   "pygments_lexer": "typescript",
   "version": "5.6.2"
  }
 },
 "nbformat": 4,
 "nbformat_minor": 2
}
