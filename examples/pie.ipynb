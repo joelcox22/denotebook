{
 "cells": [
  {
   "cell_type": "code",
   "execution_count": 1,
   "metadata": {},
   "outputs": [
    {
     "data": {
      "image/svg+xml": [
       "<svg aria-roledescription=\"pie\" role=\"graphics-document document\" style=\"max-width: 549.711px; background-color: white;\" viewBox=\"0 0 549.7109375 450\" xmlns:xlink=\"http://www.w3.org/1999/xlink\" xmlns=\"http://www.w3.org/2000/svg\" width=\"100%\" id=\"my-svg\"><style>#my-svg{font-family:\"trebuchet ms\",verdana,arial,sans-serif;font-size:16px;fill:#333;}#my-svg .error-icon{fill:#552222;}#my-svg .error-text{fill:#552222;stroke:#552222;}#my-svg .edge-thickness-normal{stroke-width:1px;}#my-svg .edge-thickness-thick{stroke-width:3.5px;}#my-svg .edge-pattern-solid{stroke-dasharray:0;}#my-svg .edge-thickness-invisible{stroke-width:0;fill:none;}#my-svg .edge-pattern-dashed{stroke-dasharray:3;}#my-svg .edge-pattern-dotted{stroke-dasharray:2;}#my-svg .marker{fill:#333333;stroke:#333333;}#my-svg .marker.cross{stroke:#333333;}#my-svg svg{font-family:\"trebuchet ms\",verdana,arial,sans-serif;font-size:16px;}#my-svg p{margin:0;}#my-svg .pieCircle{stroke:black;stroke-width:2px;opacity:0.7;}#my-svg .pieOuterCircle{stroke:black;stroke-width:2px;fill:none;}#my-svg .pieTitleText{text-anchor:middle;font-size:25px;fill:black;font-family:\"trebuchet ms\",verdana,arial,sans-serif;}#my-svg .slice{font-family:\"trebuchet ms\",verdana,arial,sans-serif;fill:#333;font-size:17px;}#my-svg .legend text{fill:black;font-family:\"trebuchet ms\",verdana,arial,sans-serif;font-size:17px;}#my-svg :root{--mermaid-font-family:\"trebuchet ms\",verdana,arial,sans-serif;}</style><g/><g transform=\"translate(225,225)\"><circle class=\"pieOuterCircle\" r=\"186\" cy=\"0\" cx=\"0\"/><path class=\"pieCircle\" fill=\"#ECECFF\" d=\"M0,-185A185,185,0,1,1,-160.215,92.5L0,0Z\"/><path class=\"pieCircle\" fill=\"#ffffde\" d=\"M-160.215,92.5A185,185,0,0,1,0,-185L0,0Z\"/><text style=\"text-anchor: middle;\" class=\"slice\" transform=\"translate(120.16102477509087,69.37499999999997)\">67%</text><text style=\"text-anchor: middle;\" class=\"slice\" transform=\"translate(-120.16102477509092,-69.37499999999991)\">33%</text><text class=\"pieTitleText\" y=\"-200\" x=\"0\"/><g transform=\"translate(216,-22)\" class=\"legend\"><rect style=\"fill: rgb(236, 236, 255); stroke: rgb(236, 236, 255);\" height=\"18\" width=\"18\"/><text y=\"14\" x=\"22\">test</text></g><g transform=\"translate(216,0)\" class=\"legend\"><rect style=\"fill: rgb(255, 255, 222); stroke: rgb(255, 255, 222);\" height=\"18\" width=\"18\"/><text y=\"14\" x=\"22\">hello</text></g></g></svg>"
      ]
     },
     "metadata": {},
     "output_type": "display_data"
    }
   ],
   "source": [
    "import { pie } from 'denotebook';\n",
    "\n",
    "await pie([\n",
    "  ['test', 100],\n",
    "  ['hello', 50],\n",
    "]);"
   ]
  },
  {
   "cell_type": "code",
   "execution_count": 2,
   "metadata": {},
   "outputs": [
    {
     "data": {
      "image/svg+xml": [
       "<svg aria-roledescription=\"pie\" role=\"graphics-document document\" style=\"max-width: 549.711px; background-color: white;\" viewBox=\"0 0 549.7109375 450\" xmlns:xlink=\"http://www.w3.org/1999/xlink\" xmlns=\"http://www.w3.org/2000/svg\" width=\"100%\" id=\"my-svg\"><style>#my-svg{font-family:\"trebuchet ms\",verdana,arial,sans-serif;font-size:16px;fill:#333;}#my-svg .error-icon{fill:#552222;}#my-svg .error-text{fill:#552222;stroke:#552222;}#my-svg .edge-thickness-normal{stroke-width:1px;}#my-svg .edge-thickness-thick{stroke-width:3.5px;}#my-svg .edge-pattern-solid{stroke-dasharray:0;}#my-svg .edge-thickness-invisible{stroke-width:0;fill:none;}#my-svg .edge-pattern-dashed{stroke-dasharray:3;}#my-svg .edge-pattern-dotted{stroke-dasharray:2;}#my-svg .marker{fill:#333333;stroke:#333333;}#my-svg .marker.cross{stroke:#333333;}#my-svg svg{font-family:\"trebuchet ms\",verdana,arial,sans-serif;font-size:16px;}#my-svg p{margin:0;}#my-svg .pieCircle{stroke:black;stroke-width:2px;opacity:0.7;}#my-svg .pieOuterCircle{stroke:black;stroke-width:2px;fill:none;}#my-svg .pieTitleText{text-anchor:middle;font-size:25px;fill:black;font-family:\"trebuchet ms\",verdana,arial,sans-serif;}#my-svg .slice{font-family:\"trebuchet ms\",verdana,arial,sans-serif;fill:#333;font-size:17px;}#my-svg .legend text{fill:black;font-family:\"trebuchet ms\",verdana,arial,sans-serif;font-size:17px;}#my-svg :root{--mermaid-font-family:\"trebuchet ms\",verdana,arial,sans-serif;}</style><g/><g transform=\"translate(225,225)\"><circle class=\"pieOuterCircle\" r=\"186\" cy=\"0\" cx=\"0\"/><path class=\"pieCircle\" fill=\"#ECECFF\" d=\"M0,-185A185,185,0,1,1,-179.871,-43.261L0,0Z\"/><path class=\"pieCircle\" fill=\"#ffffde\" d=\"M-179.871,-43.261A185,185,0,0,1,0,-185L0,0Z\"/><text style=\"text-anchor: middle;\" class=\"slice\" transform=\"translate(85.87711293139131,108.98019991984354)\">79%</text><text style=\"text-anchor: middle;\" class=\"slice\" transform=\"translate(-85.87711293139137,-108.9801999198435)\">21%</text><text class=\"pieTitleText\" y=\"-200\" x=\"0\"/><g transform=\"translate(216,-22)\" class=\"legend\"><rect style=\"fill: rgb(236, 236, 255); stroke: rgb(236, 236, 255);\" height=\"18\" width=\"18\"/><text y=\"14\" x=\"22\">hello</text></g><g transform=\"translate(216,0)\" class=\"legend\"><rect style=\"fill: rgb(255, 255, 222); stroke: rgb(255, 255, 222);\" height=\"18\" width=\"18\"/><text y=\"14\" x=\"22\">test</text></g></g></svg>"
      ]
     },
     "metadata": {},
     "output_type": "display_data"
    }
   ],
   "source": [
    "import { pie } from \"denotebook\";\n",
    "\n",
    "await pie({\n",
    "    test: 123,\n",
    "    hello: 456,\n",
    "});\n"
   ]
  }
 ],
 "metadata": {
  "kernelspec": {
   "display_name": "Deno",
   "language": "typescript",
   "name": "deno"
  },
  "language_info": {
   "codemirror_mode": "typescript",
   "file_extension": ".ts",
   "mimetype": "text/x.typescript",
   "name": "typescript",
   "nbconvert_exporter": "script",
   "pygments_lexer": "typescript",
   "version": "5.6.2"
  }
 },
 "nbformat": 4,
 "nbformat_minor": 2
}
