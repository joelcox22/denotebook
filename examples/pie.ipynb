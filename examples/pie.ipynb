{
 "cells": [
  {
   "cell_type": "code",
   "execution_count": 1,
   "metadata": {},
   "outputs": [
    {
     "data": {
      "image/svg+xml": [
       "<svg aria-roledescription=\"pie\" role=\"graphics-document document\" style=\"max-width: 549.711px; background-color: white;\" viewBox=\"0 0 549.7109375 450\" xmlns:xlink=\"http://www.w3.org/1999/xlink\" xmlns=\"http://www.w3.org/2000/svg\" width=\"100%\" id=\"my-svg\"><style>#my-svg{font-family:\"trebuchet ms\",verdana,arial,sans-serif;font-size:16px;fill:#333;}#my-svg .error-icon{fill:#552222;}#my-svg .error-text{fill:#552222;stroke:#552222;}#my-svg .edge-thickness-normal{stroke-width:1px;}#my-svg .edge-thickness-thick{stroke-width:3.5px;}#my-svg .edge-pattern-solid{stroke-dasharray:0;}#my-svg .edge-thickness-invisible{stroke-width:0;fill:none;}#my-svg .edge-pattern-dashed{stroke-dasharray:3;}#my-svg .edge-pattern-dotted{stroke-dasharray:2;}#my-svg .marker{fill:#333333;stroke:#333333;}#my-svg .marker.cross{stroke:#333333;}#my-svg svg{font-family:\"trebuchet ms\",verdana,arial,sans-serif;font-size:16px;}#my-svg p{margin:0;}#my-svg .pieCircle{stroke:black;stroke-width:2px;opacity:0.7;}#my-svg .pieOuterCircle{stroke:black;stroke-width:2px;fill:none;}#my-svg .pieTitleText{text-anchor:middle;font-size:25px;fill:black;font-family:\"trebuchet ms\",verdana,arial,sans-serif;}#my-svg .slice{font-family:\"trebuchet ms\",verdana,arial,sans-serif;fill:#333;font-size:17px;}#my-svg .legend text{fill:black;font-family:\"trebuchet ms\",verdana,arial,sans-serif;font-size:17px;}#my-svg :root{--mermaid-font-family:\"trebuchet ms\",verdana,arial,sans-serif;}</style><g/><g transform=\"translate(225,225)\"><circle class=\"pieOuterCircle\" r=\"186\" cy=\"0\" cx=\"0\"/><path class=\"pieCircle\" fill=\"#ECECFF\" d=\"M0,-185A185,185,0,1,1,-160.215,92.5L0,0Z\"/><path class=\"pieCircle\" fill=\"#ffffde\" d=\"M-160.215,92.5A185,185,0,0,1,0,-185L0,0Z\"/><text style=\"text-anchor: middle;\" class=\"slice\" transform=\"translate(120.16102477509087,69.37499999999997)\">67%</text><text style=\"text-anchor: middle;\" class=\"slice\" transform=\"translate(-120.16102477509092,-69.37499999999991)\">33%</text><text class=\"pieTitleText\" y=\"-200\" x=\"0\"/><g transform=\"translate(216,-22)\" class=\"legend\"><rect style=\"fill: rgb(236, 236, 255); stroke: rgb(236, 236, 255);\" height=\"18\" width=\"18\"/><text y=\"14\" x=\"22\">test</text></g><g transform=\"translate(216,0)\" class=\"legend\"><rect style=\"fill: rgb(255, 255, 222); stroke: rgb(255, 255, 222);\" height=\"18\" width=\"18\"/><text y=\"14\" x=\"22\">hello</text></g></g></svg>"
      ]
     },
     "metadata": {},
     "output_type": "display_data"
    }
   ],
   "source": [
    "import { pie } from \"denotebook\";\n",
    "\n",
    "await pie([\n",
    "  [\"test\", 100],\n",
    "  [\"hello\", 50],\n",
    "]);\n"
   ]
  },
  {
   "cell_type": "code",
   "execution_count": 2,
   "metadata": {},
   "outputs": [
    {
     "data": {
      "image/svg+xml": [
       "<svg aria-roledescription=\"pie\" role=\"graphics-document document\" style=\"max-width: 570.164px; background-color: white;\" viewBox=\"0 0 570.1640625 450\" xmlns:xlink=\"http://www.w3.org/1999/xlink\" xmlns=\"http://www.w3.org/2000/svg\" width=\"100%\" id=\"my-svg\"><style>#my-svg{font-family:\"trebuchet ms\",verdana,arial,sans-serif;font-size:16px;fill:#333;}#my-svg .error-icon{fill:#552222;}#my-svg .error-text{fill:#552222;stroke:#552222;}#my-svg .edge-thickness-normal{stroke-width:1px;}#my-svg .edge-thickness-thick{stroke-width:3.5px;}#my-svg .edge-pattern-solid{stroke-dasharray:0;}#my-svg .edge-thickness-invisible{stroke-width:0;fill:none;}#my-svg .edge-pattern-dashed{stroke-dasharray:3;}#my-svg .edge-pattern-dotted{stroke-dasharray:2;}#my-svg .marker{fill:#333333;stroke:#333333;}#my-svg .marker.cross{stroke:#333333;}#my-svg svg{font-family:\"trebuchet ms\",verdana,arial,sans-serif;font-size:16px;}#my-svg p{margin:0;}#my-svg .pieCircle{stroke:black;stroke-width:2px;opacity:0.7;}#my-svg .pieOuterCircle{stroke:black;stroke-width:2px;fill:none;}#my-svg .pieTitleText{text-anchor:middle;font-size:25px;fill:black;font-family:\"trebuchet ms\",verdana,arial,sans-serif;}#my-svg .slice{font-family:\"trebuchet ms\",verdana,arial,sans-serif;fill:#333;font-size:17px;}#my-svg .legend text{fill:black;font-family:\"trebuchet ms\",verdana,arial,sans-serif;font-size:17px;}#my-svg :root{--mermaid-font-family:\"trebuchet ms\",verdana,arial,sans-serif;}</style><g/><g transform=\"translate(225,225)\"><circle class=\"pieOuterCircle\" r=\"186\" cy=\"0\" cx=\"0\"/><path class=\"pieCircle\" fill=\"#ECECFF\" d=\"M0,-185A185,185,0,0,1,175.945,-57.168L0,0Z\"/><path class=\"pieCircle\" fill=\"#ffffde\" d=\"M175.945,-57.168A185,185,0,0,1,128.512,133.078L0,0Z\"/><path class=\"pieCircle\" fill=\"hsl(80, 100%, 56.2745098039%)\" d=\"M128.512,133.078A185,185,0,0,1,-38.464,180.957L0,0Z\"/><path class=\"pieCircle\" fill=\"hsl(240, 100%, 86.2745098039%)\" d=\"M-38.464,180.957A185,185,0,0,1,-160.215,92.5L0,0Z\"/><path class=\"pieCircle\" fill=\"hsl(60, 100%, 63.5294117647%)\" d=\"M-160.215,92.5A185,185,0,0,1,-182.189,-32.125L0,0Z\"/><path class=\"pieCircle\" fill=\"hsl(80, 100%, 76.2745098039%)\" d=\"M-182.189,-32.125A185,185,0,0,1,-137.482,-123.789L0,0Z\"/><path class=\"pieCircle\" fill=\"hsl(300, 100%, 76.2745098039%)\" d=\"M-137.482,-123.789A185,185,0,0,1,-75.246,-169.006L0,0Z\"/><path class=\"pieCircle\" fill=\"hsl(180, 100%, 56.2745098039%)\" d=\"M-75.246,-169.006A185,185,0,0,1,-25.747,-183.2L0,0Z\"/><path class=\"pieCircle\" fill=\"hsl(0, 100%, 56.2745098039%)\" d=\"M-25.747,-183.2A185,185,0,0,1,0,-185L0,0Z\"/><text style=\"text-anchor: middle;\" class=\"slice\" transform=\"translate(81.55520375558065,-112.25110796952396)\">20%</text><text style=\"text-anchor: middle;\" class=\"slice\" transform=\"translate(134.62853202079452,33.56666301445388)\">18%</text><text style=\"text-anchor: middle;\" class=\"slice\" transform=\"translate(38.244683119608695,133.37506031144173)\">16%</text><text style=\"text-anchor: middle;\" class=\"slice\" transform=\"translate(-81.55520375558064,112.25110796952396)\">13%</text><text style=\"text-anchor: middle;\" class=\"slice\" transform=\"translate(-136.64207573044385,24.093684651286576)\">11%</text><text style=\"text-anchor: middle;\" class=\"slice\" transform=\"translate(-124.70767392400941,-60.823996616984495)\">9%</text><text style=\"text-anchor: middle;\" class=\"slice\" transform=\"translate(-81.55520375558066,-112.25110796952394)\">7%</text><text style=\"text-anchor: middle;\" class=\"slice\" transform=\"translate(-38.24468311960871,-133.37506031144173)\">4%</text><text style=\"text-anchor: middle;\" class=\"slice\" transform=\"translate(-9.678710731997425,-138.41201197355062)\">2%</text><text class=\"pieTitleText\" y=\"-200\" x=\"0\"/><g transform=\"translate(216,-99)\" class=\"legend\"><rect style=\"fill: rgb(236, 236, 255); stroke: rgb(236, 236, 255);\" height=\"18\" width=\"18\"/><text y=\"14\" x=\"22\">ninety</text></g><g transform=\"translate(216,-77)\" class=\"legend\"><rect style=\"fill: rgb(255, 255, 222); stroke: rgb(255, 255, 222);\" height=\"18\" width=\"18\"/><text y=\"14\" x=\"22\">eighty</text></g><g transform=\"translate(216,-55)\" class=\"legend\"><rect style=\"fill: rgb(181, 255, 32); stroke: rgb(181, 255, 32);\" height=\"18\" width=\"18\"/><text y=\"14\" x=\"22\">seventy</text></g><g transform=\"translate(216,-33)\" class=\"legend\"><rect style=\"fill: rgb(185, 185, 255); stroke: rgb(185, 185, 255);\" height=\"18\" width=\"18\"/><text y=\"14\" x=\"22\">sixty</text></g><g transform=\"translate(216,-11)\" class=\"legend\"><rect style=\"fill: rgb(255, 255, 69); stroke: rgb(255, 255, 69);\" height=\"18\" width=\"18\"/><text y=\"14\" x=\"22\">fifty</text></g><g transform=\"translate(216,11)\" class=\"legend\"><rect style=\"fill: rgb(215, 255, 134); stroke: rgb(215, 255, 134);\" height=\"18\" width=\"18\"/><text y=\"14\" x=\"22\">fourty</text></g><g transform=\"translate(216,33)\" class=\"legend\"><rect style=\"fill: rgb(255, 134, 255); stroke: rgb(255, 134, 255);\" height=\"18\" width=\"18\"/><text y=\"14\" x=\"22\">thirth</text></g><g transform=\"translate(216,55)\" class=\"legend\"><rect style=\"fill: rgb(32, 255, 255); stroke: rgb(32, 255, 255);\" height=\"18\" width=\"18\"/><text y=\"14\" x=\"22\">twenty</text></g><g transform=\"translate(216,77)\" class=\"legend\"><rect style=\"fill: rgb(255, 32, 32); stroke: rgb(255, 32, 32);\" height=\"18\" width=\"18\"/><text y=\"14\" x=\"22\">ten</text></g></g></svg>"
      ]
     },
     "metadata": {},
     "output_type": "display_data"
    }
   ],
   "source": [
    "import { pie } from \"denotebook\";\n",
    "\n",
    "await pie({\n",
    "  ten: 10,\n",
    "  twenty: 20,\n",
    "  thirth: 30,\n",
    "  fourty: 40,\n",
    "  fifty: 50,\n",
    "  sixty: 60,\n",
    "  seventy: 70,\n",
    "  eighty: 80,\n",
    "  ninety: 90,\n",
    "});\n"
   ]
  }
 ],
 "metadata": {
  "kernelspec": {
   "display_name": "Deno",
   "language": "typescript",
   "name": "deno"
  },
  "language_info": {
   "codemirror_mode": "typescript",
   "file_extension": ".ts",
   "mimetype": "text/x.typescript",
   "name": "typescript",
   "nbconvert_exporter": "script",
   "pygments_lexer": "typescript",
   "version": "5.6.2"
  }
 },
 "nbformat": 4,
 "nbformat_minor": 2
}
