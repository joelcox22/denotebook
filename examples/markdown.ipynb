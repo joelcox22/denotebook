{
 "cells": [
  {
   "cell_type": "code",
   "execution_count": 2,
   "metadata": {},
   "outputs": [
    {
     "data": {
      "text/markdown": [
       "\n",
       "# Hello\n",
       "\n",
       "| this | is | a | table |\n",
       "| --- | --- | --- | --- |\n",
       "| 1 | 2 | 3 | 4 |\n",
       "| 5 | 6 | 7 | 8 |\n",
       "\n",
       "- this\n",
       "- is\n",
       "  - a\n",
       "    - list\n",
       "\n",
       "You get the idea. Standard markdown stuff.\n"
      ]
     },
     "metadata": {},
     "output_type": "display_data"
    }
   ],
   "source": [
    "import { markdown } from 'denotebook';\n",
    "\n",
    "markdown`\n",
    "# Hello\n",
    "\n",
    "| this | is | a | table |\n",
    "| --- | --- | --- | --- |\n",
    "| 1 | 2 | 3 | 4 |\n",
    "| 5 | 6 | 7 | 8 |\n",
    "\n",
    "- this\n",
    "- is\n",
    "  - a\n",
    "    - list\n",
    "\n",
    "You get the idea. Standard markdown stuff.\n",
    "`;\n"
   ]
  },
  {
   "cell_type": "code",
   "execution_count": null,
   "metadata": {},
   "outputs": [
    {
     "data": {
      "text/markdown": [
       "\n",
       "# function calls\n",
       "\n",
       "should also work\n"
      ]
     },
     "metadata": {},
     "output_type": "display_data"
    }
   ],
   "source": [
    "import { markdown } from \"denotebook\";\n",
    "\n",
    "markdown(`\n",
    "# function calls\n",
    "\n",
    "should also work\n",
    "`);"
   ]
  }
 ],
 "metadata": {
  "kernelspec": {
   "display_name": "Deno",
   "language": "typescript",
   "name": "deno"
  },
  "language_info": {
   "codemirror_mode": "typescript",
   "file_extension": ".ts",
   "mimetype": "text/x.typescript",
   "name": "typescript",
   "nbconvert_exporter": "script",
   "pygments_lexer": "typescript",
   "version": "5.6.2"
  }
 },
 "nbformat": 4,
 "nbformat_minor": 2
}
