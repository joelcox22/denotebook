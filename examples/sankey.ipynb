{
 "cells": [
  {
   "cell_type": "code",
   "execution_count": 1,
   "metadata": {},
   "outputs": [
    {
     "data": {
      "text/html": [
       "<svg aria-roledescription=\"sankey\" role=\"graphics-document document\" viewBox=\"0 0 600 400\" style=\"max-width: 600px; background-color: white;\" xmlns:xlink=\"http://www.w3.org/1999/xlink\" xmlns=\"http://www.w3.org/2000/svg\" width=\"100%\" id=\"my-svg\"><style>#my-svg{font-family:\"trebuchet ms\",verdana,arial,sans-serif;font-size:16px;fill:#333;}#my-svg .error-icon{fill:#552222;}#my-svg .error-text{fill:#552222;stroke:#552222;}#my-svg .edge-thickness-normal{stroke-width:1px;}#my-svg .edge-thickness-thick{stroke-width:3.5px;}#my-svg .edge-pattern-solid{stroke-dasharray:0;}#my-svg .edge-thickness-invisible{stroke-width:0;fill:none;}#my-svg .edge-pattern-dashed{stroke-dasharray:3;}#my-svg .edge-pattern-dotted{stroke-dasharray:2;}#my-svg .marker{fill:#333333;stroke:#333333;}#my-svg .marker.cross{stroke:#333333;}#my-svg svg{font-family:\"trebuchet ms\",verdana,arial,sans-serif;font-size:16px;}#my-svg p{margin:0;}#my-svg :root{--mermaid-font-family:\"trebuchet ms\",verdana,arial,sans-serif;}</style><g/><g class=\"nodes\"><g y=\"158.92857142857144\" x=\"0\" transform=\"translate(0,158.92857142857144)\" id=\"node-1\" class=\"node\"><rect fill=\"#4e79a7\" width=\"10\" height=\"241.0714285714285\"/></g><g y=\"6.217248937900877e-15\" x=\"295\" transform=\"translate(295,6.217248937900877e-15)\" id=\"node-2\" class=\"node\"><rect fill=\"#f28e2c\" width=\"10\" height=\"174.10714285714278\"/></g><g y=\"199.10714285714278\" x=\"295\" transform=\"translate(295,199.10714285714278)\" id=\"node-3\" class=\"node\"><rect fill=\"#e15759\" width=\"10\" height=\"200.89285714285722\"/></g><g y=\"0\" x=\"590\" transform=\"translate(590,0)\" id=\"node-4\" class=\"node\"><rect fill=\"#76b7b2\" width=\"10\" height=\"200.89285714285717\"/></g><g y=\"225.89285714285717\" x=\"590\" transform=\"translate(590,225.89285714285717)\" id=\"node-5\" class=\"node\"><rect fill=\"#59a14f\" width=\"10\" height=\"174.1071428571429\"/></g><g y=\"0\" x=\"0\" transform=\"translate(0,0)\" id=\"node-6\" class=\"node\"><rect fill=\"#edc949\" width=\"10\" height=\"133.92857142857144\"/></g></g><g font-size=\"14\" font-family=\"sans-serif\" class=\"node-labels\"><text text-anchor=\"start\" dy=\"0em\" y=\"279.46428571428567\" x=\"16\">a\n",
       "90</text><text text-anchor=\"start\" dy=\"0em\" y=\"87.05357142857139\" x=\"311\">b\n",
       "65</text><text text-anchor=\"start\" dy=\"0em\" y=\"299.5535714285714\" x=\"311\">c\n",
       "75</text><text text-anchor=\"end\" dy=\"0em\" y=\"100.44642857142858\" x=\"584\">d\n",
       "75</text><text text-anchor=\"end\" dy=\"0em\" y=\"312.9464285714286\" x=\"584\">e\n",
       "65</text><text text-anchor=\"start\" dy=\"0em\" y=\"66.96428571428572\" x=\"16\">x\n",
       "50</text></g><g stroke-opacity=\"0.5\" fill=\"none\" class=\"links\"><g style=\"mix-blend-mode: multiply;\" class=\"link\"><linearGradient x2=\"295\" x1=\"10\" gradientUnits=\"userSpaceOnUse\" id=\"linearGradient-7\"><stop stop-color=\"#4e79a7\" offset=\"0%\"/><stop stop-color=\"#f28e2c\" offset=\"100%\"/></linearGradient><path stroke-width=\"40.17857142857142\" stroke=\"url(#linearGradient-7)\" d=\"M10,179.01785714285717C152.5,179.01785714285717,152.5,154.01785714285714,295,154.01785714285714\"/></g><g style=\"mix-blend-mode: multiply;\" class=\"link\"><linearGradient x2=\"295\" x1=\"10\" gradientUnits=\"userSpaceOnUse\" id=\"linearGradient-8\"><stop stop-color=\"#4e79a7\" offset=\"0%\"/><stop stop-color=\"#e15759\" offset=\"100%\"/></linearGradient><path stroke-width=\"200.89285714285714\" stroke=\"url(#linearGradient-8)\" d=\"M10,299.55357142857144C152.5,299.55357142857144,152.5,299.55357142857133,295,299.55357142857133\"/></g><g style=\"mix-blend-mode: multiply;\" class=\"link\"><linearGradient x2=\"590\" x1=\"305\" gradientUnits=\"userSpaceOnUse\" id=\"linearGradient-9\"><stop stop-color=\"#f28e2c\" offset=\"0%\"/><stop stop-color=\"#76b7b2\" offset=\"100%\"/></linearGradient><path stroke-width=\"66.96428571428571\" stroke=\"url(#linearGradient-9)\" d=\"M305,33.48214285714286C447.5,33.48214285714286,447.5,33.482142857142854,590,33.482142857142854\"/></g><g style=\"mix-blend-mode: multiply;\" class=\"link\"><linearGradient x2=\"590\" x1=\"305\" gradientUnits=\"userSpaceOnUse\" id=\"linearGradient-10\"><stop stop-color=\"#e15759\" offset=\"0%\"/><stop stop-color=\"#76b7b2\" offset=\"100%\"/></linearGradient><path stroke-width=\"133.92857142857142\" stroke=\"url(#linearGradient-10)\" d=\"M305,266.0714285714285C447.5,266.0714285714285,447.5,133.92857142857142,590,133.92857142857142\"/></g><g style=\"mix-blend-mode: multiply;\" class=\"link\"><linearGradient x2=\"590\" x1=\"305\" gradientUnits=\"userSpaceOnUse\" id=\"linearGradient-11\"><stop stop-color=\"#f28e2c\" offset=\"0%\"/><stop stop-color=\"#59a14f\" offset=\"100%\"/></linearGradient><path stroke-width=\"107.14285714285714\" stroke=\"url(#linearGradient-11)\" d=\"M305,120.53571428571428C447.5,120.53571428571428,447.5,279.4642857142857,590,279.4642857142857\"/></g><g style=\"mix-blend-mode: multiply;\" class=\"link\"><linearGradient x2=\"295\" x1=\"10\" gradientUnits=\"userSpaceOnUse\" id=\"linearGradient-12\"><stop stop-color=\"#edc949\" offset=\"0%\"/><stop stop-color=\"#f28e2c\" offset=\"100%\"/></linearGradient><path stroke-width=\"133.92857142857142\" stroke=\"url(#linearGradient-12)\" d=\"M10,66.96428571428571C152.5,66.96428571428571,152.5,66.96428571428571,295,66.96428571428571\"/></g><g style=\"mix-blend-mode: multiply;\" class=\"link\"><linearGradient x2=\"590\" x1=\"305\" gradientUnits=\"userSpaceOnUse\" id=\"linearGradient-13\"><stop stop-color=\"#e15759\" offset=\"0%\"/><stop stop-color=\"#59a14f\" offset=\"100%\"/></linearGradient><path stroke-width=\"66.96428571428571\" stroke=\"url(#linearGradient-13)\" d=\"M305,366.51785714285705C447.5,366.51785714285705,447.5,366.51785714285717,590,366.51785714285717\"/></g></g></svg>"
      ]
     },
     "metadata": {},
     "output_type": "display_data"
    }
   ],
   "source": [
    "import { sankey } from \"denotebook\";\n",
    "\n",
    "await sankey([\n",
    "  [\"a\", \"b\", 15],\n",
    "  [\"a\", \"c\", 75],\n",
    "  [\"b\", \"d\", 25],\n",
    "  [\"c\", \"d\", 50],\n",
    "  [\"b\", \"e\", 40],\n",
    "  [\"x\", \"b\", 50],\n",
    "  [\"c\", \"e\", 25],\n",
    "]);\n"
   ]
  }
 ],
 "metadata": {
  "kernelspec": {
   "display_name": "Deno",
   "language": "typescript",
   "name": "deno"
  },
  "language_info": {
   "codemirror_mode": "typescript",
   "file_extension": ".ts",
   "mimetype": "text/x.typescript",
   "name": "typescript",
   "nbconvert_exporter": "script",
   "pygments_lexer": "typescript",
   "version": "5.6.2"
  }
 },
 "nbformat": 4,
 "nbformat_minor": 2
}
