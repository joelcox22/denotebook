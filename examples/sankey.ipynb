{
 "cells": [
  {
   "cell_type": "code",
   "execution_count": 1,
   "metadata": {},
   "outputs": [
    {
     "data": {
      "text/markdown": [
       "```mermaid\n",
       "sankey-beta\n",
       "a,b,15\n",
       "a,c,75\n",
       "b,d,25\n",
       "c,d,50\n",
       "b,e,40\n",
       "x,b,50\n",
       "c,e,25\n",
       "```"
      ]
     },
     "metadata": {},
     "output_type": "display_data"
    }
   ],
   "source": [
    "import { sankey, sankey2 } from 'denotebook';\n",
    "\n",
    "const data = [\n",
    "  ['a', 'b', 15],\n",
    "  ['a', 'c', 75],\n",
    "  ['b', 'd', 25],\n",
    "  ['c', 'd', 50],\n",
    "  ['b', 'e', 40],\n",
    "  ['x', 'b', 50],\n",
    "  ['c', 'e', 25],\n",
    "];\n",
    "\n",
    "sankey(data);\n"
   ]
  },
  {
   "cell_type": "code",
   "execution_count": 2,
   "metadata": {},
   "outputs": [
    {
     "data": {
      "image/svg+xml": [
       "<svg width=\"600\" height=\"300\"><g transform=\"translate(0,0)\"><g class=\"links\" fill=\"none\" stroke-opacity=\"1\"><g><path class=\"sankey-link\" d=\"M30,118.8C162.5,118.8,162.5,41.111,295,41.111\" style=\"stroke-width: 5.507142857142857; stroke: lightgrey;\"></path><title>a → b\n",
       " Index: 0</title></g><g><path class=\"sankey-link\" d=\"M30,135.322C162.5,135.322,162.5,157.14,295,157.14\" style=\"stroke-width: 27.53571428571429; stroke: lightgrey;\"></path><title>a → c\n",
       " Index: 1</title></g><g><path class=\"sankey-link\" d=\"M305,24.589C437.5,24.589,437.5,24.589,570,24.589\" style=\"stroke-width: 9.178571428571429; stroke: lightgrey;\"></path><title>b → d\n",
       " Index: 2</title></g><g><path class=\"sankey-link\" d=\"M305,152.551C437.5,152.551,437.5,38.357,570,38.357\" style=\"stroke-width: 18.357142857142858; stroke: lightgrey;\"></path><title>c → d\n",
       " Index: 3</title></g><g><path class=\"sankey-link\" d=\"M305,36.521C437.5,36.521,437.5,168.932,570,168.932\" style=\"stroke-width: 14.685714285714287; stroke: lightgrey;\"></path><title>b → e\n",
       " Index: 4</title></g><g><path class=\"sankey-link\" d=\"M30,29.179C162.5,29.179,162.5,29.179,295,29.179\" style=\"stroke-width: 18.357142857142858; stroke: lightgrey;\"></path><title>x → b\n",
       " Index: 5</title></g><g><path class=\"sankey-link\" d=\"M305,166.319C437.5,166.319,437.5,180.864,570,180.864\" style=\"stroke-width: 9.178571428571429; stroke: lightgrey;\"></path><title>c → e\n",
       " Index: 6</title></g></g><g class=\"nodes\" font-family=\"sans-serif\" font-size=\"10\"><g><rect x=\"20\" y=\"116.04689203925857\" height=\"33.0428571428571\" width=\"10\" style=\"fill: grey; stroke: none; opacity: 1;\"></rect><text x=\"25\" y=\"108.04689203925857\" dy=\"0.35em\" text-anchor=\"middle\">a</text><title>a\n",
       "90</title></g><g><rect x=\"295\" y=\"20.000000000000707\" height=\"23.864285714285703\" width=\"10\" style=\"fill: grey; stroke: none; opacity: 1;\"></rect><text x=\"300\" y=\"12.000000000000707\" dy=\"0.35em\" text-anchor=\"middle\">b</text><title>b\n",
       "65</title></g><g><rect x=\"295\" y=\"143.37241003271612\" height=\"27.535714285714107\" width=\"10\" style=\"fill: grey; stroke: none; opacity: 1;\"></rect><text x=\"300\" y=\"135.37241003271612\" dy=\"0.35em\" text-anchor=\"middle\">c</text><title>c\n",
       "75</title></g><g><rect x=\"570\" y=\"20.00000000000127\" height=\"27.53571428571416\" width=\"10\" style=\"fill: grey; stroke: none; opacity: 1;\"></rect><text x=\"575\" y=\"12.000000000001268\" dy=\"0.35em\" text-anchor=\"middle\">d</text><title>d\n",
       "75</title></g><g><rect x=\"570\" y=\"161.58942202835414\" height=\"23.86428571428553\" width=\"10\" style=\"fill: grey; stroke: none; opacity: 1;\"></rect><text x=\"575\" y=\"153.58942202835414\" dy=\"0.35em\" text-anchor=\"middle\">e</text><title>e\n",
       "65</title></g><g><rect x=\"20\" y=\"20\" height=\"18.35714285714286\" width=\"10\" style=\"fill: grey; stroke: none; opacity: 1;\"></rect><text x=\"25\" y=\"12\" dy=\"0.35em\" text-anchor=\"middle\">x</text><title>x\n",
       "50</title></g></g></g><rect width=\"600\" height=\"300\" style=\"fill: none; stroke: none;\"></rect><rect x=\"20\" y=\"20\" width=\"560\" height=\"260\" style=\"fill: none; stroke: none;\"></rect><rect x=\"20\" y=\"20\" width=\"560\" height=\"260\" style=\"fill: none; stroke: none;\"></rect></svg>"
      ]
     },
     "metadata": {},
     "output_type": "display_data"
    }
   ],
   "source": [
    "sankey2(data);"
   ]
  }
 ],
 "metadata": {
  "kernelspec": {
   "display_name": "Deno",
   "language": "typescript",
   "name": "deno"
  },
  "language_info": {
   "codemirror_mode": "typescript",
   "file_extension": ".ts",
   "mimetype": "text/x.typescript",
   "name": "typescript",
   "nbconvert_exporter": "script",
   "pygments_lexer": "typescript",
   "version": "5.6.2"
  }
 },
 "nbformat": 4,
 "nbformat_minor": 2
}
