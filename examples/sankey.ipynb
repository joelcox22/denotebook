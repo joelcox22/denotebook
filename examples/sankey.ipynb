{
 "cells": [
  {
   "cell_type": "code",
   "execution_count": 1,
   "metadata": {},
   "outputs": [
    {
     "data": {
      "text/markdown": [
       "```mermaid\n",
       "sankey-beta\n",
       "a,b,15\n",
       "a,c,75\n",
       "b,d,25\n",
       "c,d,50\n",
       "b,e,40\n",
       "x,b,50\n",
       "c,e,25\n",
       "```"
      ]
     },
     "metadata": {},
     "output_type": "display_data"
    }
   ],
   "source": [
    "import { sankey, sankey2 } from 'denotebook';\n",
    "\n",
    "const data = [\n",
    "  ['a', 'b', 15],\n",
    "  ['a', 'c', 75],\n",
    "  ['b', 'd', 25],\n",
    "  ['c', 'd', 50],\n",
    "  ['b', 'e', 40],\n",
    "  ['x', 'b', 50],\n",
    "  ['c', 'e', 25],\n",
    "];\n",
    "\n",
    "sankey(data);\n"
   ]
  },
  {
   "cell_type": "code",
   "execution_count": 2,
   "metadata": {},
   "outputs": [
    {
     "name": "stdout",
     "output_type": "stream",
     "text": [
      "{\n",
      "  nodes: [\n",
      "    { name: \"a\" },\n",
      "    { name: \"b\" },\n",
      "    { name: \"c\" },\n",
      "    { name: \"d\" },\n",
      "    { name: \"e\" },\n",
      "    { name: \"x\" }\n",
      "  ],\n",
      "  links: [\n",
      "    { source: \"a\", target: \"b\", value: 15 },\n",
      "    { source: \"a\", target: \"c\", value: 75 },\n",
      "    { source: \"b\", target: \"d\", value: 25 },\n",
      "    { source: \"c\", target: \"d\", value: 50 },\n",
      "    { source: \"b\", target: \"e\", value: 40 },\n",
      "    { source: \"x\", target: \"b\", value: 50 },\n",
      "    { source: \"c\", target: \"e\", value: 25 }\n",
      "  ]\n",
      "}\n"
     ]
    },
    {
     "data": {
      "image/svg+xml": [
       "<div id=\"sankey\"><svg width=\"1000\" height=\"500\"><g transform=\"translate(0,0)\"><g class=\"links\" fill=\"none\" stroke-opacity=\"1\"><g><path class=\"sankey-link\" d=\"M44,254.954C266,254.954,266,55.732,488,55.732\" style=\"stroke-width: 9.321428571428571; stroke: lightgrey;\"></path><title>a → b\n",
       " Index: 0</title></g><g><path class=\"sankey-link\" d=\"M44,282.918C266,282.918,266,311.881,488,311.881\" style=\"stroke-width: 46.60714285714286; stroke: lightgrey;\"></path><title>a → c\n",
       " Index: 1</title></g><g><path class=\"sankey-link\" d=\"M512,27.768C734,27.768,734,27.768,956,27.768\" style=\"stroke-width: 15.535714285714286; stroke: lightgrey;\"></path><title>b → d\n",
       " Index: 2</title></g><g><path class=\"sankey-link\" d=\"M512,304.114C734,304.114,734,51.071,956,51.071\" style=\"stroke-width: 31.071428571428573; stroke: lightgrey;\"></path><title>c → d\n",
       " Index: 3</title></g><g><path class=\"sankey-link\" d=\"M512,47.964C734,47.964,734,326.529,956,326.529\" style=\"stroke-width: 24.857142857142858; stroke: lightgrey;\"></path><title>b → e\n",
       " Index: 4</title></g><g><path class=\"sankey-link\" d=\"M44,35.536C266,35.536,266,35.536,488,35.536\" style=\"stroke-width: 31.071428571428573; stroke: lightgrey;\"></path><title>x → b\n",
       " Index: 5</title></g><g><path class=\"sankey-link\" d=\"M512,327.417C734,327.417,734,346.726,956,346.726\" style=\"stroke-width: 15.535714285714286; stroke: lightgrey;\"></path><title>c → e\n",
       " Index: 6</title></g></g><g class=\"nodes\" font-family=\"sans-serif\" font-size=\"10\"><g><rect x=\"20\" y=\"250.2933673469387\" height=\"55.928571428571416\" width=\"24\" style=\"fill: grey; stroke: none; opacity: 1;\"></rect><text x=\"32\" y=\"242.2933673469387\" dy=\"0.35em\" text-anchor=\"middle\">a</text><title>a\n",
       "90</title></g><g><rect x=\"488\" y=\"20\" height=\"40.39285714285711\" width=\"24\" style=\"fill: grey; stroke: none; opacity: 1;\"></rect><text x=\"500\" y=\"12\" dy=\"0.35em\" text-anchor=\"middle\">b</text><title>b\n",
       "65</title></g><g><rect x=\"488\" y=\"288.5778061224488\" height=\"46.60714285714289\" width=\"24\" style=\"fill: grey; stroke: none; opacity: 1;\"></rect><text x=\"500\" y=\"280.5778061224488\" dy=\"0.35em\" text-anchor=\"middle\">c</text><title>c\n",
       "75</title></g><g><rect x=\"956\" y=\"20\" height=\"46.60714285714289\" width=\"24\" style=\"fill: grey; stroke: none; opacity: 1;\"></rect><text x=\"968\" y=\"12\" dy=\"0.35em\" text-anchor=\"middle\">d</text><title>d\n",
       "75</title></g><g><rect x=\"956\" y=\"314.1007653061226\" height=\"40.39285714285711\" width=\"24\" style=\"fill: grey; stroke: none; opacity: 1;\"></rect><text x=\"968\" y=\"306.1007653061226\" dy=\"0.35em\" text-anchor=\"middle\">e</text><title>e\n",
       "65</title></g><g><rect x=\"20\" y=\"20\" height=\"31.071428571428555\" width=\"24\" style=\"fill: grey; stroke: none; opacity: 1;\"></rect><text x=\"32\" y=\"12\" dy=\"0.35em\" text-anchor=\"middle\">x</text><title>x\n",
       "50</title></g></g></g><rect width=\"1000\" height=\"500\" style=\"fill: none; stroke: none;\"></rect><rect x=\"20\" y=\"20\" width=\"960\" height=\"460\" style=\"fill: none; stroke: none;\"></rect><rect x=\"20\" y=\"20\" width=\"960\" height=\"460\" style=\"fill: none; stroke: none;\"></rect></svg></div>"
      ]
     },
     "metadata": {},
     "output_type": "display_data"
    }
   ],
   "source": [
    "sankey2(data);"
   ]
  }
 ],
 "metadata": {
  "kernelspec": {
   "display_name": "Deno",
   "language": "typescript",
   "name": "deno"
  },
  "language_info": {
   "codemirror_mode": "typescript",
   "file_extension": ".ts",
   "mimetype": "text/x.typescript",
   "name": "typescript",
   "nbconvert_exporter": "script",
   "pygments_lexer": "typescript",
   "version": "5.6.2"
  }
 },
 "nbformat": 4,
 "nbformat_minor": 2
}
