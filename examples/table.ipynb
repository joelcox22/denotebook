{
 "cells": [
  {
   "cell_type": "code",
   "execution_count": 1,
   "metadata": {},
   "outputs": [
    {
     "data": {
      "text/markdown": [
       "    \n",
       "| | hello | abc |\n",
       "| --- | --- | --- |\n",
       "| 0 | 123 | def |\n",
       "| 1 | 234 | test |\n"
      ]
     },
     "metadata": {},
     "output_type": "display_data"
    }
   ],
   "source": [
    "import { table } from \"denotebook\";\n",
    "\n",
    "table([\n",
    "  {\n",
    "    hello: 123,\n",
    "    abc: \"def\",\n",
    "  },\n",
    "  {\n",
    "    hello: 234,\n",
    "    abc: \"test\",\n",
    "  },\n",
    "]);\n"
   ]
  }
 ],
 "metadata": {
  "kernelspec": {
   "display_name": "Deno",
   "language": "typescript",
   "name": "deno"
  },
  "language_info": {
   "codemirror_mode": "typescript",
   "file_extension": ".ts",
   "mimetype": "text/x.typescript",
   "name": "typescript",
   "nbconvert_exporter": "script",
   "pygments_lexer": "typescript",
   "version": "5.6.2"
  }
 },
 "nbformat": 4,
 "nbformat_minor": 2
}
